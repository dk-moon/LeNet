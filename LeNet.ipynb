{
 "cells": [
  {
   "cell_type": "code",
   "execution_count": null,
   "metadata": {},
   "outputs": [],
   "source": [
    "from keras.models import Sequential\n",
    "from keras.layers import Conv2D, AveragePooling2D, Flatten, Dense, Activation\n",
    "\n",
    "def LeNet(input_shape, num_classes):\n",
    "    model = Sequential()\n",
    "\n",
    "    # 첫 번째 컨볼루션 층\n",
    "    model.add(Conv2D(6, kernel_size=(5, 5), strides=(1, 1), activation='tanh', input_shape=input_shape, padding='valid'))\n",
    "    \n",
    "    # 첫 번째 풀링 층\n",
    "    model.add(AveragePooling2D(pool_size=(2, 2), strides=(2, 2), padding='valid'))\n",
    "\n",
    "    # 두 번째 컨볼루션 층\n",
    "    model.add(Conv2D(16, kernel_size=(5, 5), strides=(1, 1), activation='tanh', padding='valid'))\n",
    "    \n",
    "    # 두 번째 풀링 층\n",
    "    model.add(AveragePooling2D(pool_size=(2, 2), strides=(2, 2), padding='valid'))\n",
    "\n",
    "    # 완전 연결 층\n",
    "    model.add(Flatten())\n",
    "    model.add(Dense(120, activation='tanh'))\n",
    "    model.add(Dense(84, activation='tanh'))\n",
    "    model.add(Dense(num_classes, activation='softmax'))\n",
    "\n",
    "    return model\n",
    "\n",
    "# MNIST 데이터셋에 적용\n",
    "input_shape = (32, 32, 1)  # 입력 이미지 크기: 32x32, 그레이스케일\n",
    "num_classes = 10  # 출력 클래스 수: 0부터 9까지의 숫자\n",
    "\n",
    "model = LeNet(input_shape, num_classes)\n",
    "model.summary()"
   ]
  }
 ],
 "metadata": {
  "language_info": {
   "name": "python"
  }
 },
 "nbformat": 4,
 "nbformat_minor": 2
}
